{
  "nbformat": 4,
  "nbformat_minor": 0,
  "metadata": {
    "colab": {
      "name": "Practice2.ipynb",
      "provenance": []
    },
    "kernelspec": {
      "name": "python3",
      "display_name": "Python 3"
    },
    "language_info": {
      "name": "python"
    }
  },
  "cells": [
    {
      "cell_type": "markdown",
      "metadata": {
        "id": "mVcj1SS2UOTm"
      },
      "source": [
        "# 线性回归的简单实现\n",
        "> 这里使用了torch自带的data包，来帮助我们抽取训练集数据自己制作Loader\n",
        "\n",
        "* 其余的部分和昨天写的代码是基本相同的"
      ]
    },
    {
      "cell_type": "code",
      "metadata": {
        "colab": {
          "base_uri": "https://localhost:8080/"
        },
        "id": "fCOPV1oQUhmD",
        "outputId": "7b074742-05e3-4db3-9662-53f1d3cf67e3"
      },
      "source": [
        "%matplotlib inline\n",
        "import torch\n",
        "from IPython import display\n",
        "from matplotlib import pyplot as plt\n",
        "import numpy as np\n",
        "import random\n",
        "\n",
        "\n",
        "num_examples = 1000\n",
        "num_inputs =  2 \n",
        "true_w = torch.tensor(np.array([2,3]),dtype=torch.float32).clone().view(2,1)\n",
        "true_b = 4\n",
        "features = torch.tensor(np.random.normal(0,1,(num_examples,num_inputs)),dtype = torch.float32)\n",
        "labels = torch.mm(features,true_w)+true_b+torch.tensor(np.random.normal(0,0.01,size=(1000,1)),dtype=torch.float32)\n",
        "features,labels.size()"
      ],
      "execution_count": 15,
      "outputs": [
        {
          "output_type": "execute_result",
          "data": {
            "text/plain": [
              "(tensor([[ 0.1090, -0.7990],\n",
              "         [-1.5397, -0.0902],\n",
              "         [-0.2355,  0.1363],\n",
              "         ...,\n",
              "         [ 1.0505, -0.1743],\n",
              "         [ 1.2538, -0.7957],\n",
              "         [ 0.8511, -0.9283]]), torch.Size([1000, 1]))"
            ]
          },
          "metadata": {
            "tags": []
          },
          "execution_count": 15
        }
      ]
    },
    {
      "cell_type": "code",
      "metadata": {
        "colab": {
          "base_uri": "https://localhost:8080/"
        },
        "id": "tnpnOQ-SYblc",
        "outputId": "c0b3c097-6b25-4edb-d7bb-c923df1d7def"
      },
      "source": [
        "import torch.utils.data as Data\n",
        "batch_size = 10\n",
        "dataset = Data.TensorDataset(features,labels)\n",
        "data_iter = Data.DataLoader(dataset,batch_size,shuffle=True)\n"
      ],
      "execution_count": 16,
      "outputs": [
        {
          "output_type": "stream",
          "text": [
            "tensor([[ 0.6790, -0.5382],\n",
            "        [ 0.9148,  1.0284],\n",
            "        [ 0.8683,  0.3149],\n",
            "        [ 1.2538, -0.7957],\n",
            "        [ 0.5847,  0.6385],\n",
            "        [ 0.4353,  0.0270],\n",
            "        [ 0.0356,  0.2330],\n",
            "        [-1.3792,  0.5097],\n",
            "        [-1.0402,  0.0773],\n",
            "        [ 0.4769,  1.8397]]) tensor([[ 3.7343],\n",
            "        [ 8.9253],\n",
            "        [ 6.6750],\n",
            "        [ 4.1297],\n",
            "        [ 7.0868],\n",
            "        [ 4.9688],\n",
            "        [ 4.7685],\n",
            "        [ 2.7705],\n",
            "        [ 2.1653],\n",
            "        [10.4990]])\n"
          ],
          "name": "stdout"
        }
      ]
    },
    {
      "cell_type": "code",
      "metadata": {
        "colab": {
          "base_uri": "https://localhost:8080/"
        },
        "id": "y3LlG5JAY4PO",
        "outputId": "ee48326e-70aa-409b-8f1d-2eb270e6b2bc"
      },
      "source": [
        "import torch.nn as nn\n",
        "class LinearNet(nn.Module):\n",
        "  def __init__(self,n_features):\n",
        "    super(LinearNet,self).__init__()\n",
        "    self.linear = nn.Linear(n_features,1)#nn.Linear表示线性层\n",
        "  \n",
        "  def forward(self,x):\n",
        "    y=self.linear(x)\n",
        "    return y\n",
        "\n",
        "net = LinearNet(num_inputs)\n",
        "print(net)"
      ],
      "execution_count": 18,
      "outputs": [
        {
          "output_type": "stream",
          "text": [
            "LinearNet(\n",
            "  (linear): Linear(in_features=2, out_features=1, bias=True)\n",
            ")\n"
          ],
          "name": "stdout"
        }
      ]
    },
    {
      "cell_type": "code",
      "metadata": {
        "colab": {
          "base_uri": "https://localhost:8080/"
        },
        "id": "G43YaWbybA7L",
        "outputId": "6f46a080-8f9a-48e3-ddac-bd835988a95e"
      },
      "source": [
        "# 初始化参数\n",
        "from torch.nn import init\n",
        "init.normal_(net.linear.weight,mean=0,std=0.01)\n",
        "init.constant_(net.linear.bias,val=0)\n"
      ],
      "execution_count": 19,
      "outputs": [
        {
          "output_type": "execute_result",
          "data": {
            "text/plain": [
              "Parameter containing:\n",
              "tensor([0.], requires_grad=True)"
            ]
          },
          "metadata": {
            "tags": []
          },
          "execution_count": 19
        }
      ]
    },
    {
      "cell_type": "code",
      "metadata": {
        "id": "sQaYwDFPcVa2"
      },
      "source": [
        "loss = nn.MSELoss()#均方误差\n",
        "import torch.optim as optim\n",
        "optimizer = optim.SGD(net.parameters(),lr=0.03)\n"
      ],
      "execution_count": 20,
      "outputs": []
    },
    {
      "cell_type": "code",
      "metadata": {
        "colab": {
          "base_uri": "https://localhost:8080/",
          "height": 354
        },
        "id": "hIn5GMu4dPWL",
        "outputId": "0eeff4ad-13e7-4f4c-b8ae-628e36443dcb"
      },
      "source": [
        "# 训练模型\n",
        "num_epochs = 100\n",
        "trainning_record = []\n",
        "for epoch in range(1,num_epochs+1):\n",
        "  for X,y in data_iter:\n",
        "    output = net(X)\n",
        "    l = loss(output,y.view(-1,1))\n",
        "    optimizer.zero_grad()\n",
        "    l.backward()#计算导数\n",
        "    optimizer.step()#修改参数\n",
        "  trainning_record.append(l.item())\n",
        "plt.plot(trainning_record)\n",
        "\n",
        "print(true_w, net.linear.weight)\n",
        "print(true_b, net.linear.bias)"
      ],
      "execution_count": 23,
      "outputs": [
        {
          "output_type": "stream",
          "text": [
            "tensor([[2.],\n",
            "        [3.]]) Parameter containing:\n",
            "tensor([[2.0002, 3.0000]], requires_grad=True)\n",
            "4 Parameter containing:\n",
            "tensor([3.9998], requires_grad=True)\n"
          ],
          "name": "stdout"
        },
        {
          "output_type": "display_data",
          "data": {
            "image/png": "[encoded data removed]",
            "text/plain": [
              "<Figure size 432x288 with 1 Axes>"
            ]
          },
          "metadata": {
            "tags": [],
            "needs_background": "light"
          }
        }
      ]
    },
    {
      "cell_type": "markdown",
      "metadata": {
        "id": "3l2GaUDGeVqk"
      },
      "source": [
        "#小结\n",
        "* 使用PyTorch可以更简洁地实现模型。\n",
        "* torch.utils.data模块提供了有关数据处理的工具\n",
        "* torch.nn模块定义了大量神经网络的层\n",
        "* torch.nn.init模块定义了各种初始化方法\n",
        "* torch.optim模块提供了很多常用的优化算法。"
      ]
    }
  ]
}